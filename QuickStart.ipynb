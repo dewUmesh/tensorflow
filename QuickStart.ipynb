{
  "nbformat": 4,
  "nbformat_minor": 0,
  "metadata": {
    "colab": {
      "provenance": [],
      "authorship_tag": "ABX9TyPKLW7coGhlom7A8t/47iR/",
      "include_colab_link": true
    },
    "kernelspec": {
      "name": "python3",
      "display_name": "Python 3"
    },
    "language_info": {
      "name": "python"
    }
  },
  "cells": [
    {
      "cell_type": "markdown",
      "metadata": {
        "id": "view-in-github",
        "colab_type": "text"
      },
      "source": [
        "<a href=\"https://colab.research.google.com/github/dewUmesh/tensorflow/blob/main/QuickStart.ipynb\" target=\"_parent\"><img src=\"https://colab.research.google.com/assets/colab-badge.svg\" alt=\"Open In Colab\"/></a>"
      ]
    },
    {
      "cell_type": "markdown",
      "source": [
        "1. Setup engine\n",
        "2. Load dataset.\n",
        "\n",
        "3. Build a neural network machine learning model that classifies images.\n",
        "\n",
        "4. Train this neural network.\n",
        "\n",
        "5. Evaluate the accuracy of the model.\n",
        "\n",
        "# **SLBTT**"
      ],
      "metadata": {
        "id": "83stQ0cRNUrz"
      }
    },
    {
      "cell_type": "markdown",
      "source": [
        "  # **Setup Tensorflow**"
      ],
      "metadata": {
        "id": "ShH4Ay8fOpQp"
      }
    },
    {
      "cell_type": "code",
      "execution_count": null,
      "metadata": {
        "id": "5Nf1IUHTMrrR",
        "outputId": "0e998269-e5b9-40f5-d872-a480dac71557",
        "colab": {
          "base_uri": "https://localhost:8080/"
        }
      },
      "outputs": [
        {
          "output_type": "stream",
          "name": "stdout",
          "text": [
            "Tensorflow version :  2.13.0\n"
          ]
        }
      ],
      "source": [
        "# Setup tensorflow\n",
        "\n",
        "import tensorflow as tf\n",
        "print (\"Tensorflow version : \", tf.__version__)"
      ]
    },
    {
      "cell_type": "markdown",
      "source": [
        "  # **Load Datasets**"
      ],
      "metadata": {
        "id": "rniPNzy8PJer"
      }
    },
    {
      "cell_type": "code",
      "source": [
        "dataset = tf.keras.datasets.mnist"
      ],
      "metadata": {
        "id": "x8kTLQyiN-U4"
      },
      "execution_count": 4,
      "outputs": []
    },
    {
      "cell_type": "code",
      "source": [
        "# create train and test split\n",
        "(x_train,y_train),(x_test,y_test) = dataset.load_data()\n"
      ],
      "metadata": {
        "id": "ifqkEptdPpDC"
      },
      "execution_count": 8,
      "outputs": []
    },
    {
      "cell_type": "code",
      "source": [
        "x_train, x_test = x_train / 255.0, x_test / 255.0"
      ],
      "metadata": {
        "id": "0UICfapdQ7D_"
      },
      "execution_count": 10,
      "outputs": []
    },
    {
      "cell_type": "markdown",
      "source": [
        "  # **Build Model**"
      ],
      "metadata": {
        "id": "3tTG6OBQRPFP"
      }
    },
    {
      "cell_type": "code",
      "source": [
        "model = tf.keras.Sequential(\n",
        "   [\n",
        "      tf.keras.layers.Flatten(input_shape=(28,28)),\n",
        "    tf.keras.layers.Dense(128,activation='relu'),\n",
        "    tf.keras.layers.Dropout(0.2),\n",
        "    tf.keras.layers.Dense(10)\n",
        "   ]\n",
        ")"
      ],
      "metadata": {
        "id": "DggCYZVcQsZ4"
      },
      "execution_count": 12,
      "outputs": []
    },
    {
      "cell_type": "code",
      "source": [
        "predictions = model(x_train)"
      ],
      "metadata": {
        "id": "cgGsTevvTCJi"
      },
      "execution_count": 13,
      "outputs": []
    }
  ]
}