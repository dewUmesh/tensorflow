{
  "nbformat": 4,
  "nbformat_minor": 0,
  "metadata": {
    "colab": {
      "provenance": [],
      "authorship_tag": "ABX9TyOJo4/Ek/MUtf8kMnBIzcux",
      "include_colab_link": true
    },
    "kernelspec": {
      "name": "python3",
      "display_name": "Python 3"
    },
    "language_info": {
      "name": "python"
    }
  },
  "cells": [
    {
      "cell_type": "markdown",
      "metadata": {
        "id": "view-in-github",
        "colab_type": "text"
      },
      "source": [
        "<a href=\"https://colab.research.google.com/github/dewUmesh/tensorflow/blob/main/QuickStart.ipynb\" target=\"_parent\"><img src=\"https://colab.research.google.com/assets/colab-badge.svg\" alt=\"Open In Colab\"/></a>"
      ]
    },
    {
      "cell_type": "markdown",
      "source": [
        "1. Load a prebuilt dataset.\n",
        "\n",
        "2. Build a neural network machine learning model that classifies images.\n",
        "\n",
        "3. Train this neural network.\n",
        "\n",
        "4. Evaluate the accuracy of the model.\n",
        "\n",
        "# **LBTT**"
      ],
      "metadata": {
        "id": "83stQ0cRNUrz"
      }
    },
    {
      "cell_type": "code",
      "execution_count": 2,
      "metadata": {
        "id": "5Nf1IUHTMrrR",
        "outputId": "0e998269-e5b9-40f5-d872-a480dac71557",
        "colab": {
          "base_uri": "https://localhost:8080/"
        }
      },
      "outputs": [
        {
          "output_type": "stream",
          "name": "stdout",
          "text": [
            "Tensorflow version :  2.13.0\n"
          ]
        }
      ],
      "source": [
        "# import tensorflow\n",
        "\n",
        "import tensorflow as tf\n",
        "print (\"Tensorflow version : \", tf.__version__)"
      ]
    },
    {
      "cell_type": "code",
      "source": [],
      "metadata": {
        "id": "x8kTLQyiN-U4"
      },
      "execution_count": null,
      "outputs": []
    }
  ]
}